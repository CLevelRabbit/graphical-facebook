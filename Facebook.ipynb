{
 "cells": [
  {
   "cell_type": "code",
   "execution_count": null,
   "id": "731543a0",
   "metadata": {},
   "outputs": [],
   "source": [
    "import generate_df\n",
    "import ploting_funcs\n",
    "\n",
    "df = generate_df.get_clean_df('hapshuta_posts.csv')"
   ]
  },
  {
   "cell_type": "code",
   "execution_count": null,
   "id": "8f35b0eb",
   "metadata": {},
   "outputs": [],
   "source": [
    "# POST 1\n",
    "ploting_funcs.plot_avgs(df).show()\n",
    "ploting_funcs.plot_avgs(df, show_metadata=True).show()"
   ]
  }
 ],
 "metadata": {
  "kernelspec": {
   "display_name": "Python 3 (ipykernel)",
   "language": "python",
   "name": "python3"
  },
  "language_info": {
   "codemirror_mode": {
    "name": "ipython",
    "version": 3
   },
   "file_extension": ".py",
   "mimetype": "text/x-python",
   "name": "python",
   "nbconvert_exporter": "python",
   "pygments_lexer": "ipython3",
   "version": "3.10.5"
  }
 },
 "nbformat": 4,
 "nbformat_minor": 5
}
