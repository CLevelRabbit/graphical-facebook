{
 "cells": [
  {
   "cell_type": "code",
   "execution_count": 1,
   "id": "309805f8",
   "metadata": {},
   "outputs": [],
   "source": [
    "import generate_df\n",
    "import ploting_funcs\n",
    "import plotly.graph_objects as go\n",
    "import plotly.express as px\n",
    "from plotly.subplots import make_subplots\n",
    "import datetime\n",
    "import pandas as pd\n",
    "\n",
    "df = generate_df.get_clean_df('hapshuta_posts.csv')\n",
    "df['day_of_week'] = df.full_time.dt.day_of_week + 2\n",
    "df.loc[df.day_of_week == 8, 'day_of_week'] = 1"
   ]
  },
  {
   "cell_type": "code",
   "execution_count": null,
   "id": "35ca473a",
   "metadata": {},
   "outputs": [],
   "source": [
    "# POST 1\n",
    "ploting_funcs.plot_avgs(df).show()\n",
    "ploting_funcs.plot_avgs(df, show_metadata=True).show()"
   ]
  },
  {
   "cell_type": "code",
   "execution_count": 1,
   "id": "0d4a055c",
   "metadata": {
    "scrolled": true
   },
   "outputs": [
    {
     "ename": "NameError",
     "evalue": "name 'ploting_funcs' is not defined",
     "output_type": "error",
     "traceback": [
      "\u001b[1;31m---------------------------------------------------------------------------\u001b[0m",
      "\u001b[1;31mNameError\u001b[0m                                 Traceback (most recent call last)",
      "Input \u001b[1;32mIn [1]\u001b[0m, in \u001b[0;36m<cell line: 1>\u001b[1;34m()\u001b[0m\n\u001b[1;32m----> 1\u001b[0m \u001b[43mploting_funcs\u001b[49m\u001b[38;5;241m.\u001b[39mgroup_param_to_reaction_count(df, param\u001b[38;5;241m=\u001b[39m\u001b[38;5;124m'\u001b[39m\u001b[38;5;124mhour\u001b[39m\u001b[38;5;124m'\u001b[39m, categories\u001b[38;5;241m=\u001b[39m\u001b[38;5;28mrange\u001b[39m(\u001b[38;5;241m24\u001b[39m), font_size\u001b[38;5;241m=\u001b[39m\u001b[38;5;241m14\u001b[39m)\n\u001b[0;32m      2\u001b[0m ploting_funcs\u001b[38;5;241m.\u001b[39mgroup_param_to_reaction_count(df, param\u001b[38;5;241m=\u001b[39m\u001b[38;5;124m'\u001b[39m\u001b[38;5;124mday_of_week\u001b[39m\u001b[38;5;124m'\u001b[39m)\n\u001b[0;32m      3\u001b[0m ploting_funcs\u001b[38;5;241m.\u001b[39mgroup_param_to_reaction_count(df, param\u001b[38;5;241m=\u001b[39m\u001b[38;5;124m'\u001b[39m\u001b[38;5;124mword_count\u001b[39m\u001b[38;5;124m'\u001b[39m, ranges\u001b[38;5;241m=\u001b[39m[\u001b[38;5;241m0\u001b[39m, \u001b[38;5;241m5\u001b[39m, \u001b[38;5;241m10\u001b[39m, \u001b[38;5;241m20\u001b[39m, \u001b[38;5;241m200\u001b[39m, \u001b[38;5;241m2000\u001b[39m])\n",
      "\u001b[1;31mNameError\u001b[0m: name 'ploting_funcs' is not defined"
     ]
    }
   ],
   "source": [
    "# POST 2\n",
    "ploting_funcs.group_param_to_reaction_count(df, param='hour', categories=range(24), font_size=14)\n",
    "ploting_funcs.group_param_to_reaction_count(df, param='day_of_week')\n",
    "ploting_funcs.group_param_to_reaction_count(df, param='word_count', ranges=[0, 5, 10, 20, 200, 2000])\n",
    "ploting_funcs.group_param_to_reaction_count(df, param='images_cnt', ranges=[-1, 0, 1, 30])\n",
    "ploting_funcs.group_param_to_reaction_count(df[(df.base_month < datetime.datetime(year=2022, month=8, day=1)) & (df.base_month > datetime.datetime(year=2021, month=6, day=30))], param='base_month', hide_grid=True)"
   ]
  }
 ],
 "metadata": {
  "kernelspec": {
   "display_name": "Python 3 (ipykernel)",
   "language": "python",
   "name": "python3"
  },
  "language_info": {
   "codemirror_mode": {
    "name": "ipython",
    "version": 3
   },
   "file_extension": ".py",
   "mimetype": "text/x-python",
   "name": "python",
   "nbconvert_exporter": "python",
   "pygments_lexer": "ipython3",
   "version": "3.10.5"
  }
 },
 "nbformat": 4,
 "nbformat_minor": 5
}
